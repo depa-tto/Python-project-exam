{
 "cells": [
  {
   "cell_type": "code",
   "execution_count": 139,
   "metadata": {},
   "outputs": [],
   "source": [
    "import pandas as pd # type: ignore\n",
    "import os # type: ignore\n",
    "import opendatasets as od # type: ignore\n",
    "import numpy as np # type: ignore\n",
    "import random # type: ignore"
   ]
  },
  {
   "cell_type": "code",
   "execution_count": null,
   "metadata": {},
   "outputs": [],
   "source": [
    "dataset = 'https://www.kaggle.com/datasets/ashirwadsangwan/imdb-dataset/data'\n",
    "\n",
    "od.download(dataset)"
   ]
  },
  {
   "cell_type": "code",
   "execution_count": 141,
   "metadata": {},
   "outputs": [],
   "source": [
    "data_dir = './imdb-dataset'"
   ]
  },
  {
   "cell_type": "code",
   "execution_count": null,
   "metadata": {},
   "outputs": [],
   "source": [
    "os.listdir(data_dir)"
   ]
  },
  {
   "cell_type": "markdown",
   "metadata": {},
   "source": [
    "# role dataset"
   ]
  },
  {
   "cell_type": "code",
   "execution_count": 143,
   "metadata": {},
   "outputs": [],
   "source": [
    "roles_df = pd.read_table('./imdb-dataset/name.basics.tsv')"
   ]
  },
  {
   "cell_type": "code",
   "execution_count": 144,
   "metadata": {},
   "outputs": [],
   "source": [
    "roles_df.replace('\\\\N', np.nan, inplace=True)"
   ]
  },
  {
   "cell_type": "code",
   "execution_count": 145,
   "metadata": {},
   "outputs": [],
   "source": [
    "roles_df.dropna(inplace=True)"
   ]
  },
  {
   "cell_type": "code",
   "execution_count": null,
   "metadata": {},
   "outputs": [],
   "source": [
    "roles_df"
   ]
  },
  {
   "cell_type": "code",
   "execution_count": null,
   "metadata": {},
   "outputs": [],
   "source": [
    "roles_df.info()"
   ]
  },
  {
   "cell_type": "code",
   "execution_count": 148,
   "metadata": {},
   "outputs": [],
   "source": [
    "roles_df[['first_profession', 'second_profession', 'third_profession']] = roles_df['primaryProfession'].str.split(',', expand=True)"
   ]
  },
  {
   "cell_type": "code",
   "execution_count": 149,
   "metadata": {},
   "outputs": [],
   "source": [
    "roles_df = roles_df.drop(['primaryProfession'], axis = 1)"
   ]
  },
  {
   "cell_type": "code",
   "execution_count": 150,
   "metadata": {},
   "outputs": [],
   "source": [
    "roles_df[['movie_1', 'movie_2', 'movie_3', 'movie_4']] = roles_df['knownForTitles'].str.split(',', expand=True)"
   ]
  },
  {
   "cell_type": "code",
   "execution_count": 151,
   "metadata": {},
   "outputs": [],
   "source": [
    "roles_df = roles_df.drop(['knownForTitles'], axis = 1)"
   ]
  },
  {
   "cell_type": "code",
   "execution_count": null,
   "metadata": {},
   "outputs": [],
   "source": [
    "roles_df"
   ]
  },
  {
   "cell_type": "code",
   "execution_count": 153,
   "metadata": {},
   "outputs": [],
   "source": [
    "roles_df = roles_df.rename(columns={'nconst': 'name_id',\n",
    "                                    'primaryName': 'name_surname',\n",
    "                                    'birthYear': 'birth',\n",
    "                                    'deathYear': 'death'})"
   ]
  },
  {
   "cell_type": "code",
   "execution_count": null,
   "metadata": {},
   "outputs": [],
   "source": [
    "roles_df"
   ]
  },
  {
   "cell_type": "markdown",
   "metadata": {},
   "source": [
    "# movie dataset"
   ]
  },
  {
   "cell_type": "code",
   "execution_count": null,
   "metadata": {},
   "outputs": [],
   "source": [
    "movie_df = pd.read_table('./imdb-dataset/title.basics.tsv')"
   ]
  },
  {
   "cell_type": "code",
   "execution_count": 156,
   "metadata": {},
   "outputs": [],
   "source": [
    "movie_df.replace('\\\\N', np.nan, inplace=True)"
   ]
  },
  {
   "cell_type": "code",
   "execution_count": 157,
   "metadata": {},
   "outputs": [],
   "source": [
    "movie_df.dropna(inplace=True)"
   ]
  },
  {
   "cell_type": "code",
   "execution_count": null,
   "metadata": {},
   "outputs": [],
   "source": [
    "movie_df"
   ]
  },
  {
   "cell_type": "code",
   "execution_count": 159,
   "metadata": {},
   "outputs": [],
   "source": [
    "movie_df[['genre_1', 'genre_2', 'genre_3']] = movie_df['genres'].str.split(',', expand=True)"
   ]
  },
  {
   "cell_type": "code",
   "execution_count": 160,
   "metadata": {},
   "outputs": [],
   "source": [
    "movie_df  = movie_df.drop(['genres'], axis = 1)"
   ]
  },
  {
   "cell_type": "code",
   "execution_count": 161,
   "metadata": {},
   "outputs": [],
   "source": [
    "movie_df = movie_df.rename(columns = {'tconst': 'movie_id',\n",
    "                                      'titleType': 'type',\n",
    "                                      'primaryTitle': 'title',\n",
    "                                      'originalTitle': 'original_title',\n",
    "                                      'isAdult': 'adult',\n",
    "                                      'startYear': 'start_year',\n",
    "                                      'endYear': 'end_year',\n",
    "                                      'runtimeMinutes': 'minutes_runtimes'})"
   ]
  },
  {
   "cell_type": "markdown",
   "metadata": {},
   "source": [
    "# region dataset"
   ]
  },
  {
   "cell_type": "code",
   "execution_count": null,
   "metadata": {},
   "outputs": [],
   "source": [
    "region_df = pd.read_table('./imdb-dataset/title.akas.tsv')"
   ]
  },
  {
   "cell_type": "code",
   "execution_count": null,
   "metadata": {},
   "outputs": [],
   "source": [
    "region_df.replace('\\\\N', np.nan, inplace=True)"
   ]
  },
  {
   "cell_type": "code",
   "execution_count": null,
   "metadata": {},
   "outputs": [],
   "source": [
    "region_df.dropna(inplace=True)"
   ]
  },
  {
   "cell_type": "code",
   "execution_count": null,
   "metadata": {},
   "outputs": [],
   "source": [
    "region_df"
   ]
  },
  {
   "cell_type": "markdown",
   "metadata": {},
   "source": [
    "# merge dataset"
   ]
  },
  {
   "cell_type": "code",
   "execution_count": null,
   "metadata": {},
   "outputs": [],
   "source": [
    "roles_df"
   ]
  },
  {
   "cell_type": "code",
   "execution_count": null,
   "metadata": {},
   "outputs": [],
   "source": [
    "movie_df"
   ]
  },
  {
   "cell_type": "code",
   "execution_count": 113,
   "metadata": {},
   "outputs": [],
   "source": [
    "merge_set1 = pd.merge(roles_df, movie_df, left_on='movie_1', right_on='movie_id').drop(\n",
    "    ['movie_1', 'movie_2', 'movie_3', 'movie_4', 'movie_id', 'name_id'], axis = 1)"
   ]
  },
  {
   "cell_type": "code",
   "execution_count": 114,
   "metadata": {},
   "outputs": [],
   "source": [
    "merge_set2 = pd.merge(roles_df, movie_df, left_on='movie_2', right_on='movie_id').drop(\n",
    "    ['movie_1', 'movie_2', 'movie_3', 'movie_4', 'movie_id', 'name_id'], axis = 1)"
   ]
  },
  {
   "cell_type": "code",
   "execution_count": 115,
   "metadata": {},
   "outputs": [],
   "source": [
    "merge_set3 = pd.merge(roles_df, movie_df, left_on='movie_3', right_on='movie_id').drop(\n",
    "    ['movie_1', 'movie_2', 'movie_3', 'movie_4', 'movie_id', 'name_id'], axis = 1)"
   ]
  },
  {
   "cell_type": "code",
   "execution_count": 116,
   "metadata": {},
   "outputs": [],
   "source": [
    "merge_set4 = pd.merge(roles_df, movie_df, left_on='movie_4', right_on='movie_id').drop(\n",
    "    ['movie_1', 'movie_2', 'movie_3', 'movie_4', 'movie_id', 'name_id'], axis = 1)"
   ]
  },
  {
   "cell_type": "code",
   "execution_count": 117,
   "metadata": {},
   "outputs": [],
   "source": [
    "merge_set = pd.concat([merge_set1, merge_set2, merge_set3, merge_set4])"
   ]
  },
  {
   "cell_type": "code",
   "execution_count": null,
   "metadata": {},
   "outputs": [],
   "source": [
    "merge_set"
   ]
  },
  {
   "cell_type": "markdown",
   "metadata": {},
   "source": [
    "# quiz"
   ]
  },
  {
   "cell_type": "code",
   "execution_count": 119,
   "metadata": {},
   "outputs": [],
   "source": [
    "merge_set['start_year'] = pd.to_numeric(merge_set['start_year'], errors='coerce').fillna(0).astype(int)"
   ]
  },
  {
   "cell_type": "code",
   "execution_count": null,
   "metadata": {},
   "outputs": [],
   "source": [
    "merge_set['start_year'].plot(kind='density', figsize=(14,6))"
   ]
  },
  {
   "cell_type": "code",
   "execution_count": 121,
   "metadata": {},
   "outputs": [],
   "source": [
    "def difficulty(set):\n",
    "    dif = str(input('choose the difficulty between easy, medium and hard')).lower()\n",
    "    if dif == 'hard':\n",
    "        set = set[set['start_year'] < 1960]\n",
    "    elif dif == 'medium':\n",
    "        set = set[(set['start_year'] > 1961) & (set['start_year'] < 1980)]\n",
    "    elif dif == 'easy':\n",
    "        set = set[set['start_year'] > 1981]\n",
    "    return set"
   ]
  },
  {
   "cell_type": "code",
   "execution_count": 136,
   "metadata": {},
   "outputs": [],
   "source": [
    "def quiz(set):\n",
    "    counter = 0\n",
    "    set = difficulty(set)\n",
    "    score = 0\n",
    "    x = int(input('how many rounds do you want to play ?'))\n",
    "    while counter < x:\n",
    "        n_rows, _ = set.shape\n",
    "        indices = random.sample(set.index.tolist(), k = n_rows)[0]\n",
    "        title = set['title'].iloc[indices]\n",
    "        name_surname = set['name_surname'].iloc[indices]\n",
    "        correct_answer = set['start_year'].iloc[indices]\n",
    "    \n",
    "        print(f\"in which year was '{title}' of '{name_surname}' produced ?\")\n",
    "    \n",
    "        my_answer = int(input('enter your answer'))\n",
    "        if my_answer == correct_answer:\n",
    "            print('your are correct')\n",
    "            score += 1\n",
    "            print(f'your score is: {score}')\n",
    "        else:\n",
    "            print('you are wrong')\n",
    "            print(f'your score is: {score}')\n",
    "\n",
    "        print(f\"the correct answer is: '{correct_answer}'\")\n",
    "        print('----------------------------------')\n",
    "        counter += 1\n",
    "    \n",
    "    print('end')\n",
    "    print(f'your final score is: {score}')"
   ]
  },
  {
   "cell_type": "code",
   "execution_count": null,
   "metadata": {},
   "outputs": [],
   "source": [
    "quiz(merge_set)"
   ]
  }
 ],
 "metadata": {
  "kernelspec": {
   "display_name": "Python 3",
   "language": "python",
   "name": "python3"
  },
  "language_info": {
   "codemirror_mode": {
    "name": "ipython",
    "version": 3
   },
   "file_extension": ".py",
   "mimetype": "text/x-python",
   "name": "python",
   "nbconvert_exporter": "python",
   "pygments_lexer": "ipython3",
   "version": "3.12.1"
  }
 },
 "nbformat": 4,
 "nbformat_minor": 2
}
