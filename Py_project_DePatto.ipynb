{
 "cells": [
  {
   "cell_type": "code",
   "execution_count": 2,
   "metadata": {},
   "outputs": [
    {
     "name": "stdout",
     "output_type": "stream",
     "text": [
      "Requirement already satisfied: cinemagoer in c:\\users\\adepa\\appdata\\local\\programs\\python\\python312\\lib\\site-packages (2023.5.1)\n",
      "Requirement already satisfied: SQLAlchemy in c:\\users\\adepa\\appdata\\local\\programs\\python\\python312\\lib\\site-packages (from cinemagoer) (2.0.35)\n",
      "Requirement already satisfied: lxml in c:\\users\\adepa\\appdata\\local\\programs\\python\\python312\\lib\\site-packages (from cinemagoer) (5.2.2)\n",
      "Requirement already satisfied: typing-extensions>=4.6.0 in c:\\users\\adepa\\appdata\\local\\programs\\python\\python312\\lib\\site-packages (from SQLAlchemy->cinemagoer) (4.12.2)\n",
      "Requirement already satisfied: greenlet!=0.4.17 in c:\\users\\adepa\\appdata\\local\\programs\\python\\python312\\lib\\site-packages (from SQLAlchemy->cinemagoer) (3.1.1)\n"
     ]
    },
    {
     "name": "stderr",
     "output_type": "stream",
     "text": [
      "\n",
      "[notice] A new release of pip is available: 23.2.1 -> 24.2\n",
      "[notice] To update, run: python.exe -m pip install --upgrade pip\n"
     ]
    }
   ],
   "source": [
    "! pip install cinemagoer"
   ]
  },
  {
   "cell_type": "code",
   "execution_count": 7,
   "metadata": {},
   "outputs": [],
   "source": [
    "from imdb import Cinemagoer"
   ]
  },
  {
   "cell_type": "code",
   "execution_count": 9,
   "metadata": {},
   "outputs": [],
   "source": [
    "data = Cinemagoer()"
   ]
  },
  {
   "cell_type": "code",
   "execution_count": 11,
   "metadata": {},
   "outputs": [
    {
     "data": {
      "text/plain": [
       "<imdb.parser.http.IMDbHTTPAccessSystem at 0x2ee62694380>"
      ]
     },
     "execution_count": 11,
     "metadata": {},
     "output_type": "execute_result"
    }
   ],
   "source": [
    "data"
   ]
  }
 ],
 "metadata": {
  "kernelspec": {
   "display_name": "Python 3",
   "language": "python",
   "name": "python3"
  },
  "language_info": {
   "codemirror_mode": {
    "name": "ipython",
    "version": 3
   },
   "file_extension": ".py",
   "mimetype": "text/x-python",
   "name": "python",
   "nbconvert_exporter": "python",
   "pygments_lexer": "ipython3",
   "version": "3.12.1"
  }
 },
 "nbformat": 4,
 "nbformat_minor": 2
}
